{
 "cells": [
  {
   "cell_type": "markdown",
   "metadata": {
    "id": "eOE28T3H2Bxs"
   },
   "source": [
    "# 💹 Project: Finance. Forecasting Currency Exchange Rates for Banking Operations\n",
    "\n",
    "This project focuses on forecasting **SGD/USD** and **CNY/USD** exchange rates to support banking operations. We’ll compare **ARIMA** (statistical baseline), **XGBoost** (feature-based ML), **LSTM** (deep learning sequence model), and **TFT** (Transformer-based deep learning model) for forecasting accuracy."
   ]
  },
  {
   "cell_type": "markdown",
   "metadata": {
    "id": "L5x4Grdd2FWT"
   },
   "source": [
    "## Import Libraries"
   ]
  },
  {
   "cell_type": "code",
   "execution_count": null,
   "metadata": {
    "id": "l2qKJNEhuGE6",
    "outputId": "e4eb889a-0f91-4595-f65d-5f4607e792c2"
   },
   "outputs": [],
   "source": [
    "import pandas as pd\n",
    "import numpy as np\n",
    "import matplotlib.pyplot as plt\n",
    "\n",
    "from statsmodels.tsa.stattools import adfuller, kpss\n",
    "from statsmodels.graphics.tsaplots import plot_acf, plot_pacf\n",
    "\n",
    "from darts import TimeSeries\n",
    "from darts.dataprocessing.transformers import Scaler as DartsScaler\n",
    "from darts.metrics import rmse, mae, mape\n",
    "from darts.utils.timeseries_generation import datetime_attribute_timeseries\n",
    "from darts.models import ARIMA, XGBModel, RNNModel, TFTModel\n",
    "\n",
    "from darts.utils.model_selection import train_test_split\n",
    "from darts.utils.likelihood_models import QuantileRegression\n",
    "\n",
    "import warnings\n",
    "warnings.filterwarnings(\"ignore\")\n",
    "import warnings"
   ]
  },
  {
   "cell_type": "markdown",
   "metadata": {
    "id": "g3Qwmetw3B86"
   },
   "source": [
    "## Time Series Analysis Helpers"
   ]
  },
  {
   "cell_type": "code",
   "execution_count": null,
   "metadata": {
    "id": "i6lQNbBG2q8h"
   },
   "outputs": [],
   "source": [
    "plt.rcParams[\"figure.figsize\"] = (11, 5)\n",
    "\n",
    "def adf_test(y, name=\"series\"):\n",
    "    res = adfuller(y, autolag=\"AIC\")\n",
    "    print(f\"ADF for {name}: stat={res[0]:.3f}, p={res[1]:.4f}\")\n",
    "\n",
    "def kpss_test(y, name=\"series\"):\n",
    "    try:\n",
    "        stat, p, lags, crit = kpss(y, regression='c', nlags='auto')\n",
    "        print(f\"KPSS for {name}: stat={stat:.3f}, p={p:.4f}\")\n",
    "    except Exception as e:\n",
    "        print(\"KPSS error:\", e)\n",
    "\n",
    "def difference(series: pd.Series, d: int = 1) -> pd.Series:\n",
    "    s = series.copy()\n",
    "    for _ in range(d):\n",
    "        s = s.diff()\n",
    "    return s.dropna()"
   ]
  },
  {
   "cell_type": "markdown",
   "metadata": {
    "id": "P3KGbtX535b8"
   },
   "source": [
    "## Import and Manipulate Data"
   ]
  },
  {
   "cell_type": "code",
   "execution_count": null,
   "metadata": {
    "colab": {
     "base_uri": "https://localhost:8080/",
     "height": 707
    },
    "id": "4IAUYbGox2F4",
    "outputId": "7cd8d7d6-8042-44c0-a4e1-6b7c924619b9"
   },
   "outputs": [],
   "source": [
    "df = pd.read_csv(\"Foreign_Exchange_Rates.csv\", parse_dates=[\"DATE\"])\n",
    "df = df.set_index(\"DATE\").sort_index()\n",
    "\n",
    "df = df.replace('ND', np.nan)\n",
    "\n",
    "df = df.rename(columns={\n",
    "    \"SINGAPORE - SINGAPORE DOLLAR/US$\": \"SGDUSD\",\n",
    "    \"CHINA - YUAN/US$\": \"CNYUSD\"\n",
    "})\n",
    "\n",
    "df['SGDUSD'] = pd.to_numeric(df['SGDUSD'], errors='coerce')\n",
    "df['CNYUSD'] = pd.to_numeric(df['CNYUSD'], errors='coerce')\n",
    "\n",
    "df = df.ffill().bfill()\n",
    "\n",
    "display(df.head())\n",
    "df[['SGDUSD','CNYUSD']].plot(title=\"SGD/USD and CNY/USD\")\n",
    "plt.show()"
   ]
  },
  {
   "cell_type": "markdown",
   "metadata": {
    "id": "IFeY5jgYWxqk"
   },
   "source": [
    "- Long-run trends\n",
    "\n",
    "  - CNY/USD: Flat near 8.3 until ~2005 (hard peg), then a long appreciation to ~6.1 by 2014, followed by a regime break/depreciation toward ~6.9–7.1 in 2015–2019.\n",
    "\n",
    " - SGD/USD: Gradual appreciation from 1.75 (early 2000s) to 1.23 (2011–2012), then modest depreciation and range-bound behavior (~1.32–1.40) mid-2014 onward.\n",
    "\n",
    "- Volatility & structure\n",
    "\n",
    "  - CNY shows structural breaks (2005 de-peg; 2015 devaluation; 2018 trade tensions) → higher regime-driven volatility.\n",
    "\n",
    "  - SGD path is smoother/lower vol (consistent with MAS’s band-managed policy).\n",
    "\n",
    "- Co-movement\n",
    "\n",
    "  - Limited before 2005 (CNY peg).\n",
    "\n",
    "  - Noticeable joint weakening vs USD in 2014–2016, then partial recoveries/divergence.\n",
    "\n",
    "- Seasonality\n",
    "\n",
    "  - No clear seasonality by eye; verify with ACF/PACF and STL decompositio"
   ]
  },
  {
   "cell_type": "markdown",
   "metadata": {
    "id": "q8dtQqFa5L_B"
   },
   "source": [
    "## Time Series EDA"
   ]
  },
  {
   "cell_type": "code",
   "execution_count": null,
   "metadata": {
    "colab": {
     "base_uri": "https://localhost:8080/",
     "height": 1000
    },
    "id": "tjisS8WEy9oB",
    "outputId": "e3587d02-7009-4e71-808a-bd57d7bb057e"
   },
   "outputs": [],
   "source": [
    "for col in [\"SGDUSD\", \"CNYUSD\"]:\n",
    "    print(\"\\n====\", col, \"====\")\n",
    "    y = df[col].astype(float).dropna()\n",
    "    adf_test(y, col)\n",
    "    kpss_test(y, col)\n",
    "\n",
    "for col in [\"SGDUSD\", \"CNYUSD\"]:\n",
    "    print(\"\\n---- ACF/PACF (possibly differenced) for\", col, \"----\")\n",
    "    y = df[col].astype(float).dropna()\n",
    "    needs_diff = (adfuller(y)[1] > 0.05)\n",
    "    if needs_diff:\n",
    "        y_used = difference(y, 1)\n",
    "        d = 1\n",
    "    else:\n",
    "        y_used = y\n",
    "        d = 0\n",
    "    print(f\"Using d={d}\")\n",
    "\n",
    "    fig, axes = plt.subplots(1, 2, figsize=(12,4))\n",
    "    plot_acf(y_used, ax=axes[0], lags=40, title=f\"{col} - ACF (d={d})\")\n",
    "    plot_pacf(y_used, ax=axes[1], lags=40, title=f\"{col} - PACF (d={d})\", method=\"ywm\")\n",
    "    plt.show()"
   ]
  },
  {
   "cell_type": "markdown",
   "metadata": {
    "id": "cT36XK0sdCkh"
   },
   "source": [
    "**Stationarity & ACF/PACF Diagnostics**\n",
    "\n",
    "- Tests on raw levels\n",
    "\n",
    "- SGDUSD — ADF p = 0.726 (fail to reject unit root), KPSS p = 0.010 (reject stationarity) → non-stationary.\n",
    "\n",
    "- CNYUSD — ADF p = 0.636, KPSS p = 0.010 → non-stationary.\n",
    "\n",
    "- Implication: both series need first differencing (or log-returns). This motivates d = 1 in ARIMA.\n",
    "\n",
    "**ACF/PACF on first differences (d = 1)**\n",
    "\n",
    "- SGDUSD (d=1): ACF and PACF show no materially significant spikes at low lags → differenced series ≈ white noise.\n",
    "\n",
    "- CNYUSD (d=1): Same picture—no clear AR or MA structure.\n",
    "\n",
    "- Seasonality: No visible weekly/monthly seasonal pattern in ACF; seasonal terms likely unnecessary.\n",
    "\n",
    "- Takeaway: When the differenced series is close to white noise, the data behave like a random walk. A strong, simple baseline is ARIMA(0,1,0) (random walk), optionally with drift."
   ]
  },
  {
   "cell_type": "markdown",
   "metadata": {
    "id": "mN03o2GU6QFM"
   },
   "source": [
    "## Create Time Series, Covariates, and Splits"
   ]
  },
  {
   "cell_type": "code",
   "execution_count": null,
   "metadata": {
    "id": "7UaIDDXB1n0L"
   },
   "outputs": [],
   "source": [
    "sgd_series = TimeSeries.from_series(df[\"SGDUSD\"].astype(np.float32))\n",
    "cny_series = TimeSeries.from_series(df[\"CNYUSD\"].astype(np.float32))\n",
    "\n",
    "day_of_week = datetime_attribute_timeseries(df.index, attribute=\"day_of_week\", one_hot=True).astype(np.float32)\n",
    "month = datetime_attribute_timeseries(df.index, attribute=\"month\", one_hot=True).astype(np.float32)\n",
    "calendar_covs = day_of_week.stack(month).astype(np.float32)\n",
    "\n",
    "sgd_train, sgd_val = train_test_split(sgd_series, test_size=0.2)\n",
    "cny_train, cny_val = train_test_split(cny_series, test_size=0.2)\n",
    "\n",
    "scaler_target = DartsScaler()\n",
    "sgd_train_s = scaler_target.fit_transform(sgd_train)\n",
    "sgd_val_s = scaler_target.transform(sgd_val)\n",
    "\n",
    "scaler_covs = DartsScaler()\n",
    "calendar_covs_s = scaler_covs.fit_transform(calendar_covs)\n",
    "cov_train, cov_val = calendar_covs_s.split_after(sgd_train.end_time())"
   ]
  },
  {
   "cell_type": "markdown",
   "metadata": {
    "id": "L1HXuUw7AXt5"
   },
   "source": [
    "## ARIMA Model Training and Evaluation"
   ]
  },
  {
   "cell_type": "markdown",
   "metadata": {
    "id": "LCL0-m_ABMmS"
   },
   "source": [
    "### Sinapore Dollar"
   ]
  },
  {
   "cell_type": "code",
   "execution_count": null,
   "metadata": {
    "colab": {
     "base_uri": "https://localhost:8080/",
     "height": 599
    },
    "id": "lDvdaNNK1tft",
    "outputId": "919d3131-2e28-48cb-fc8d-eeb872b1183a"
   },
   "outputs": [],
   "source": [
    "h = len(sgd_val)\n",
    "\n",
    "naive_pred = TimeSeries.from_times_and_values(sgd_val.time_index, sgd_train[-1].values()[0] * np.ones(h))\n",
    "naive_rmse = rmse(sgd_val, naive_pred)\n",
    "print(\"Naïve (last value) RMSE:\", naive_rmse)\n",
    "\n",
    "# ARIMA: choose (p,d,q) using your ACF/PACF inspection\n",
    "p, d, q = 0, 1, 0\n",
    "\n",
    "arima = ARIMA(p, d, q, trend='t')\n",
    "arima.fit(sgd_train)\n",
    "arima_pred = arima.predict(h)\n",
    "print(\"ARIMA RMSE:\", rmse(sgd_val, arima_pred))\n",
    "\n",
    "plt.figure(figsize=(12, 6))\n",
    "sgd_val.plot(label=\"Actual SGD\")\n",
    "naive_pred.plot(label=\"Naive (Last Value) Prediction SGD\")\n",
    "arima_pred.plot(label=\"ARIMA Prediction SGD\") # Corrected variable name\n",
    "plt.title(\"Naive vs ARIMA Predictions for SGD/USD\")\n",
    "plt.legend()\n",
    "plt.show()\n"
   ]
  },
  {
   "cell_type": "markdown",
   "metadata": {
    "id": "pAu7nJeWF_Ud"
   },
   "source": [
    "📉 Naïve vs. ARIMA(0,1,0) with drift — SGD/*USD*\n",
    "\n",
    "Visual takeaways\n",
    "\n",
    "- The naïve forecast badly overestimates once the series trends down (flat line above the actuals for most of the window).\n",
    "\n",
    "- ARIMA with drift captures the downward slope across the period, removing the persistent bias you see in the naïve line.\n",
    "\n",
    "- Neither model captures short-term oscillations; both are deliberately smooth. The ARIMA line explains the medium-term direction; the naïve line explains nothing.\n",
    "\n",
    "Accuracy (from the same run)\n",
    "\n",
    "- Naïve: RMSE ≈ 0.0558, MAE ≈ 0.0503\n",
    "\n",
    "- ARIMA w/ drift: RMSE ≈ 0.0328, MAE ≈ 0.0254\n",
    "→ ~41% lower RMSE and ~49% lower MAE vs naïve, consistent with the visual improvement.\n",
    "\n",
    "Interpretation for banking use\n",
    "\n",
    "- Over this horizon the SGD showed a gentle appreciation vs USD (lower SGD/USD). The drift term learns that slope, yielding tighter, less biased forecasts.\n",
    "\n",
    "- Because FX often behaves like a random walk, adding a small drift can help when a clear medium-term trend is present; otherwise it won’t.\n",
    "\n",
    "Limitations & next steps\n",
    "\n",
    "- The linear drift cannot capture local cycles, volatility spikes, or regime breaks.\n",
    "\n",
    "- Run rolling backtests (e.g., 1-day and 5-day horizons).\n",
    "\n",
    "- Check residuals (e.g., Ljung–Box) and volatility clustering; consider volatility features or GARCH if needed.\n",
    "\n",
    "- For richer dynamics, complement with feature-based (XGB) or sequence models (LSTM/TFT) using covariates (calendar, interest-rate differentials, DXY)."
   ]
  },
  {
   "cell_type": "markdown",
   "metadata": {
    "id": "Hzkv3L4jBWH6"
   },
   "source": [
    "### Chinese Yaun"
   ]
  },
  {
   "cell_type": "code",
   "execution_count": null,
   "metadata": {
    "colab": {
     "base_uri": "https://localhost:8080/",
     "height": 599
    },
    "id": "cdb91506",
    "outputId": "87e7a633-788e-49e7-d06c-f1a08f5a1110"
   },
   "outputs": [],
   "source": [
    "h_cny = len(cny_val)\n",
    "\n",
    "naive_pred_cny = TimeSeries.from_times_and_values(cny_val.time_index, cny_train[-1].values()[0] * np.ones(h_cny))\n",
    "naive_rmse_cny = rmse(cny_val, naive_pred_cny)\n",
    "print(\"Naïve (last value) RMSE for CNY:\", naive_rmse_cny)\n",
    "\n",
    "p_cny, d_cny, q_cny = 1, 1, 1\n",
    "\n",
    "arima_cny = ARIMA(p_cny, d_cny, q_cny, trend='t')\n",
    "arima_cny.fit(cny_train)\n",
    "arima_pred_cny = arima_cny.predict(h_cny)\n",
    "print(\"ARIMA RMSE for CNY:\", rmse(cny_val, arima_pred_cny))\n",
    "\n",
    "plt.figure(figsize=(12, 6))\n",
    "cny_val.plot(label=\"Actual CNY\")\n",
    "naive_pred_cny.plot(label=\"Naive (Last Value) Prediction CNY\")\n",
    "arima_pred_cny.plot(label=\"ARIMA Prediction CNY\")\n",
    "plt.title(\"Naive vs ARIMA Predictions for CNY/USD\")\n",
    "plt.legend()\n",
    "plt.show()"
   ]
  },
  {
   "cell_type": "markdown",
   "metadata": {
    "id": "yWePn10FRxsW"
   },
   "source": [
    "**Interpretation**\n",
    "\n",
    "📉 Naïve vs. ARIMA(0,1,0)+drift — CNY/USD (validation window)\n",
    "\n",
    "Visual diagnosis\n",
    "\n",
    "- From 2016 onward the series rises toward ~7.0, with a dip in early-2018 and renewed increases in 2019.\n",
    "\n",
    "- The naïve line underestimates most of the period (flat line below actuals) but stays relatively close early on.\n",
    "\n",
    "- The ARIMA+drift forecast assumes a persistent decline (continued appreciation of CNY vs USD). That trend is the wrong sign for this window, so its error grows over time (systematic negative bias).\n",
    "\n",
    "Interpretation\n",
    "\n",
    "- CNY/USD behaves like a random walk with regime/level shifts.\n",
    "\n",
    "- The drift term was learned from the training window (likely mild downward trend) but doesn’t hold out-of-sample; hence the linear decline misses the subsequent upward move.\n",
    "\n",
    "- In such settings, a random walk without drift can outperform a mis-specified drift model."
   ]
  },
  {
   "cell_type": "markdown",
   "metadata": {
    "id": "JAG1YEEOIO4b"
   },
   "source": [
    "## XGBoost Forecasting Model SGD/USD"
   ]
  },
  {
   "cell_type": "code",
   "execution_count": null,
   "metadata": {
    "colab": {
     "base_uri": "https://localhost:8080/",
     "height": 577
    },
    "id": "60gMTH_b-GBj",
    "outputId": "e8838ada-3a02-485a-9a1f-7e140366d0b2"
   },
   "outputs": [],
   "source": [
    "target_lags = [-1, -2, -3, -5, -7, -14, -21]\n",
    "past_cov_lags = [-1, -2, -3, -5, -7]\n",
    "future_cov_lags = [0]   #0..6, see the \"extend covariates\" block below\n",
    "\n",
    "xgb = XGBModel(\n",
    "    lags=target_lags,\n",
    "    lags_past_covariates=past_cov_lags,\n",
    "    lags_future_covariates=future_cov_lags,\n",
    "    random_state=42,\n",
    "    n_estimators=400,\n",
    "    learning_rate=0.05,\n",
    "    max_depth=6\n",
    ")\n",
    "\n",
    "scaler_cny = DartsScaler()\n",
    "cny_series_s = scaler_cny.fit_transform(cny_series)\n",
    "cny_train_s, cny_val_s = cny_series_s.split_after(sgd_train.end_time())\n",
    "past_cov_train = cny_train_s\n",
    "past_cov_full = cny_train_s.append(cny_val_s)\n",
    "\n",
    "xgb.fit(\n",
    "    series=sgd_train_s,\n",
    "    past_covariates=past_cov_train,\n",
    "    future_covariates=cov_train\n",
    ")\n",
    "\n",
    "xgb_pred_s = xgb.predict(\n",
    "    n=h,\n",
    "    past_covariates=past_cov_full,\n",
    "    future_covariates=cov_val\n",
    ")\n",
    "xgb_pred = scaler_target.inverse_transform(xgb_pred_s)\n",
    "\n",
    "print(\"XGB RMSE:\", rmse(sgd_val, xgb_pred))\n",
    "print(\"XGB MAE:\",  mae(sgd_val, xgb_pred))\n",
    "print(\"XGB MAPE:\", mape(sgd_val, xgb_pred))\n",
    "\n",
    "sgd_series.plot(label=\"Actual\")\n",
    "xgb_pred.plot(label=\"XGB forecast\")\n",
    "plt.title(\"SGD/USD — XGBModel\")\n",
    "plt.legend(); plt.show()"
   ]
  },
  {
   "cell_type": "markdown",
   "metadata": {
    "id": "BXXeEIxAVO0l"
   },
   "source": [
    "**Interpretation**\n",
    "\n",
    "XGB RMSE = 0.0362, MAE = 0.0307, MAPE ≈ 2.26%\n",
    "\n",
    "With SGD/USD ≈ 1.35, that’s ~3.1¢ average absolute error and ~2.26% relative error, respectable for daily FX.\n",
    "\n",
    "Compared to earlier baselines:\n",
    "\n",
    "- vs Naïve (RMSE 0.0558): ~35% improvement → strong win.\n",
    "\n",
    "- vs ARIMA(0,1,0)+drift (RMSE 0.0328): ~10% worse → ARIMA-drift is still narrowly ahead on this split."
   ]
  },
  {
   "cell_type": "markdown",
   "metadata": {
    "id": "1XoiBODAJJG0"
   },
   "source": [
    "## XGBoost Forecasting Model CNY/USD"
   ]
  },
  {
   "cell_type": "code",
   "execution_count": null,
   "metadata": {
    "colab": {
     "base_uri": "https://localhost:8080/",
     "height": 577
    },
    "id": "0a001158",
    "outputId": "72d29744-5994-49bb-ba3f-8feae89bf68e"
   },
   "outputs": [],
   "source": [
    "target_lags_cny = [-1, -2, -5, -10, -20]\n",
    "past_cov_lags_cny = [-1, -2, -5, -10]\n",
    "future_cov_lags_cny = [0, 1, 2, 3, 4, 5, 6]\n",
    "\n",
    "xgb_cny = XGBModel(\n",
    "    lags=target_lags_cny,\n",
    "    lags_past_covariates=past_cov_lags_cny,\n",
    "    lags_future_covariates=future_cov_lags_cny,\n",
    "    random_state=42,\n",
    "    n_estimators=400,\n",
    "    learning_rate=0.05,\n",
    "    max_depth=6\n",
    ")\n",
    "\n",
    "scaler_target_cny = DartsScaler()\n",
    "cny_train_s = scaler_target_cny.fit_transform(cny_train)\n",
    "cny_val_s = scaler_target_cny.transform(cny_val)\n",
    "\n",
    "scaler_sgd = DartsScaler()\n",
    "sgd_series_s = scaler_sgd.fit_transform(sgd_series)\n",
    "sgd_train_s_cov, sgd_val_s_cov = sgd_series_s.split_after(cny_train.end_time())\n",
    "\n",
    "past_cov_train_cny = sgd_train_s_cov\n",
    "past_cov_full_cny = sgd_train_s_cov.append(sgd_val_s_cov)\n",
    "\n",
    "h_cny = len(cny_val)\n",
    "max_future = max(future_cov_lags_cny)\n",
    "freq = pd.infer_freq(cny_series.time_index) or \"D\"\n",
    "offset = pd.tseries.frequencies.to_offset(freq)\n",
    "\n",
    "extended_index = pd.date_range(\n",
    "    start=cny_series.start_time(),\n",
    "    end=cny_series.end_time() + (h_cny + max_future) * offset,\n",
    "    freq=freq\n",
    ")\n",
    "\n",
    "dow = datetime_attribute_timeseries(extended_index, attribute=\"day_of_week\", one_hot=True)\n",
    "mon = datetime_attribute_timeseries(extended_index, attribute=\"month\", one_hot=True)\n",
    "calendar_full = dow.stack(mon)\n",
    "\n",
    "scaler_covs = DartsScaler()\n",
    "calendar_full_s = scaler_covs.fit_transform(calendar_full)\n",
    "\n",
    "cov_train_cny, cov_future_full_cny = calendar_full_s.split_after(cny_train.end_time())\n",
    "\n",
    "xgb_cny.fit(\n",
    "    series=cny_train_s,\n",
    "    past_covariates=past_cov_train_cny,\n",
    "    future_covariates=cov_train_cny\n",
    ")\n",
    "\n",
    "xgb_pred_s_cny = xgb_cny.predict(\n",
    "    n=h_cny,\n",
    "    past_covariates=past_cov_full_cny,\n",
    "    future_covariates=cov_future_full_cny\n",
    ")\n",
    "xgb_pred_cny = scaler_target_cny.inverse_transform(xgb_pred_s_cny)\n",
    "\n",
    "print(\"XGB RMSE for CNY:\", rmse(cny_val, xgb_pred_cny))\n",
    "print(\"XGB MAE  for CNY:\", mae(cny_val, xgb_pred_cny))\n",
    "print(\"XGB MAPE for CNY:\", mape(cny_val, xgb_pred_cny))\n",
    "\n",
    "cny_series.plot(label=\"Actual CNY\")\n",
    "xgb_pred_cny.plot(label=\"XGB forecast CNY\")\n",
    "plt.title(\"CNY/USD — XGBModel (with SGD as past covariate)\")\n",
    "plt.legend(); plt.show()"
   ]
  },
  {
   "cell_type": "markdown",
   "metadata": {
    "id": "m_xIqttk7xUP"
   },
   "source": [
    "📈 CNY/USD — XGB with SGD as past covariate (validation)\n",
    "What the plot shows\n",
    "\n",
    "The blue XGB forecast is too flat and lags the upward moves in 2018–2019.\n",
    "\n",
    "This indicates underfitting / regime mismatch: the model learned a stable level near 6.45–6.75 and didn’t adapt to the later uptrend (~6.9–7.1).\n",
    "\n",
    "Metrics\n",
    "\n",
    "- RMSE = 0.2413, MAE = 0.2017, MAPE ≈ 2.99%.\n",
    "\n",
    "- With CNY/USD ≈ 6.6–7.0, that’s about ¥0.20 average absolute error per USD (~3%).\n",
    "\n",
    "- Use case:\n",
    "\n",
    "  - Daily pricing/hedging → 3% is too high.\n",
    "\n",
    " - Longer-horizon planning → may be acceptable, but can improve.\n",
    "\n",
    "Why performance lags\n",
    "\n",
    "- Regimes: Training likely spans pre-2005 peg and 2015–2019 policy shifts; that older history can dilute signal for recent dynamics.\n",
    "\n",
    "- Lags: Weekly calendar lags (-7,-14,-21) are less relevant on business-day FX data.\n",
    "\n",
    "- Target in levels: Modeling levels makes it harder to catch directional shifts; returns often work better.\n",
    "\n",
    "- Covariates: Only SGD as past cov; no macro/future-known features beyond calendar."
   ]
  },
  {
   "cell_type": "markdown",
   "metadata": {
    "id": "ZvX-VV5XLpBs"
   },
   "source": [
    "## LSTM Forecasting with Calendar Features (CNY/USD)"
   ]
  },
  {
   "cell_type": "code",
   "execution_count": null,
   "metadata": {
    "colab": {
     "base_uri": "https://localhost:8080/",
     "height": 1000,
     "referenced_widgets": [
      "affc3ab04da14e2383260dfd8bf3f495",
      "a8830ad85b834d4888e6b9c612743cb5",
      "ccbcbb917ff0454fada281390c5edd62",
      "3633518ce6f94027bab5f7e9b5c77e84",
      "1c88b6b5d39c4f5a8cefe6e3e0ee388e",
      "5cc8dc36e1e94cefb0e267051a172267",
      "b052e9b8033e48229583436da1b30f34",
      "d86b926fa36d46f6b88c5cfa39c0d867",
      "1f38c219c68c438bbc2737185d548162",
      "1eed404a713146ccbb8cf898e8013d2b",
      "61cbef96ff6a4aa8ba28363aa6cd72e9",
      "d2aafeb8d619466fa986dc818fae3fce",
      "5730d05967d544b79dc3446863e244ee",
      "830f8a0ae05e462d9c2e1c0ff8afc2d7",
      "0b08cfcbfd73475fb9862a1eb420f756",
      "c96d3f326e78464dbe8797493d378167",
      "edb565a330b2458788a47f340e066107",
      "6c19120d892843449a323e470c2050f0",
      "ace336e7c3064fa58813334b774c9334",
      "a137245e068249228a33b2a117e0a047",
      "1ac6f0ec18a3488f87718a34470ccdda",
      "d2fb3ae99fbd45ba81b24a4785a6d8ca"
     ]
    },
    "id": "915665a3",
    "outputId": "cf49cabc-f4f8-4dc1-a02d-ae72d0355714"
   },
   "outputs": [],
   "source": [
    "lstm_cny = RNNModel(\n",
    "    model=\"LSTM\",\n",
    "    input_chunk_length=24,\n",
    "    hidden_dim=64,\n",
    "    n_rnn_layers=2,\n",
    "    dropout=0.1,\n",
    "    n_epochs=50,\n",
    "    random_state=42,\n",
    ")\n",
    "\n",
    "assert cov_train.end_time() >= cny_train_s.end_time(), \\\n",
    "    \"cov_train must extend through (or beyond) the end of the training period.\"\n",
    "\n",
    "cov_full = cov_train.append(cov_val)\n",
    "\n",
    "step = cny_train_s.time_index[1] - cny_train_s.time_index[0]\n",
    "required_start = cny_train_s.end_time() - (lstm_cny.input_chunk_length - 1) * step\n",
    "\n",
    "assert cov_full.start_time() <= required_start, \\\n",
    "    f\"future_covariates must start on/before {required_start} to cover the lookback window.\"\n",
    "assert cov_full.end_time() >= cny_val.end_time(), \\\n",
    "    \"future_covariates must extend through the forecast horizon.\"\n",
    "\n",
    "lstm_cny.fit(\n",
    "    series=cny_train_s,\n",
    "    future_covariates=cov_train,\n",
    "    verbose=True\n",
    ")\n",
    "\n",
    "h_cny = len(cny_val)\n",
    "lstm_pred_s_cny = lstm_cny.predict(\n",
    "    n=h_cny,\n",
    "    future_covariates=cov_full\n",
    ")\n",
    "\n",
    "scaler_target_cny = DartsScaler()\n",
    "scaler_target_cny.fit(cny_train)\n",
    "lstm_pred_cny = scaler_target_cny.inverse_transform(lstm_pred_s_cny)\n",
    "\n",
    "print(\"LSTM RMSE for CNY:\", rmse(cny_val, lstm_pred_cny))\n",
    "print(\"LSTM MAE for CNY:\",  mae(cny_val, lstm_pred_cny))\n",
    "\n",
    "ax = cny_series.plot(label=\"Actual CNY\")\n",
    "lstm_pred_cny.plot(ax=ax, label=\"LSTM forecast CNY\")\n",
    "plt.title(\"CNY/USD — LSTM (DARTS RNNModel, future covariates only)\")\n",
    "plt.legend(); plt.show()"
   ]
  },
  {
   "cell_type": "markdown",
   "metadata": {
    "id": "2_uOj1TQ8Zg5"
   },
   "source": [
    "**Interpretation**\n",
    "\n",
    "The model is underfitting and exhibits regression-to-the-mean:\n",
    "\n",
    "- The model trained with input_chunk_length=24 (short memory) and a small LSTM. It mostly extrapolates the longer 2010–2015 downtrend it saw rather than reacting to the later regime change.\n",
    "\n",
    "- In this setup RNNModel only uses future_covariates. If those are calendar features, they carry little predictive signal for FX; the network effectively becomes a smoothed random walk.\n",
    "\n",
    "- output_chunk_length is forced to 1 for RNNModel, so the forecast is rolled one step at a time—errors accumulate and the line looks flat/smoothed.\n",
    "\n",
    "The picture is consistent with the earlier metrics you reported for this LSTM (e.g., higher RMSE/MAE than XGB and naïve RW), i.e., no lift over baselines."
   ]
  },
  {
   "cell_type": "markdown",
   "metadata": {
    "id": "ndLeIPuNKZN3"
   },
   "source": [
    "## LSTM Forecasting with Calendar Features (SGD/USD)"
   ]
  },
  {
   "cell_type": "code",
   "execution_count": null,
   "metadata": {
    "colab": {
     "base_uri": "https://localhost:8080/",
     "height": 1000,
     "referenced_widgets": [
      "c8c72ca2b3bb41b9bbb6fb911eb437bb",
      "523cfa3ac7884556b488bb5d8a1649ed",
      "5b76f8493e654bc4bf97f87746a121b3",
      "692e4abdee7a4ce7b1a4bd2ba40cd5a6",
      "2cb7fc9f40844dd5be5c6eff59df9ca0",
      "423e84e0cfa1483486765d7d15a1e497",
      "7121c3912ea343d09df054a584905d0c",
      "19e6bd6318184209919bf79e309cd875",
      "185fca7e28e04e18abf71746d479ebeb",
      "8dd53e78a5e44f2fab5129f88e391848",
      "f4200689d8a04b34b6063277ba49f4f9",
      "576c40570be942deb11ec1722c27a58b",
      "cc3e2b2d82594456af1ad8ae6b5634e5",
      "d01fae10574f4b7a8d04aa3f4a2bbac5",
      "e5ace2b79b4a4c21b2cbc7c04e5c18d9",
      "1da96dbc56bd40e6ad1c23cf43b8ccff",
      "163e6a13ec964d61975017ce17c3c497",
      "c870d981415f4161a8d334ea4ec5601c",
      "271b51dcd8a3409aa045bfb83b6f12fa",
      "a086c4fd224d4f58a1b4a2d9f9d3be42",
      "130ea35a36964159a0ce77d0f8795e82",
      "fcbd02a42c0041a5bbdb90173390fbab"
     ]
    },
    "id": "Q2PfAqNfDIVn",
    "outputId": "8081b608-2ef5-48d8-f8e2-bef919e0db17"
   },
   "outputs": [],
   "source": [
    "lstm_sgd = RNNModel(\n",
    "    model=\"LSTM\",\n",
    "    input_chunk_length=24,\n",
    "    hidden_dim=64,\n",
    "    n_rnn_layers=2,\n",
    "    dropout=0.1,\n",
    "    n_epochs=50,\n",
    "    random_state=42,\n",
    ")\n",
    "\n",
    "assert cov_train.end_time() >= sgd_train_s.end_time(), \\\n",
    "    \"cov_train must extend through (or beyond) the end of the training period.\"\n",
    "\n",
    "cov_full = cov_train.append(cov_val)\n",
    "\n",
    "step = sgd_train_s.time_index[1] - sgd_train_s.time_index[0]\n",
    "required_start = sgd_train_s.end_time() - (lstm_sgd.input_chunk_length - 1) * step\n",
    "\n",
    "assert cov_full.start_time() <= required_start, \\\n",
    "    f\"future_covariates must start on/before {required_start} to cover the lookback window.\"\n",
    "assert cov_full.end_time() >= sgd_val.end_time(), \\\n",
    "    \"future_covariates must extend through the forecast horizon.\"\n",
    "\n",
    "lstm_sgd.fit(\n",
    "    series=sgd_train_s,\n",
    "    future_covariates=cov_train,\n",
    "    verbose=True\n",
    ")\n",
    "\n",
    "lstm_pred_s = lstm_sgd.predict(\n",
    "    n=h,\n",
    "    future_covariates=cov_full\n",
    ")\n",
    "\n",
    "lstm_pred = scaler_target.inverse_transform(lstm_pred_s)\n",
    "\n",
    "print(\"LSTM RMSE:\", rmse(sgd_val, lstm_pred))\n",
    "print(\"LSTM MAE:\",  mae(sgd_val, lstm_pred))\n",
    "\n",
    "ax = sgd_series.plot(label=\"Actual\")\n",
    "lstm_pred.plot(ax=ax, label=\"LSTM forecast\")\n",
    "plt.title(\"SGD/USD — LSTM (DARTS RNNModel, future covariates only)\")\n",
    "plt.legend(); plt.show()"
   ]
  },
  {
   "cell_type": "markdown",
   "metadata": {
    "id": "pH0xKYge-R2f"
   },
   "source": [
    "**Interpretation**\n",
    "\n",
    "- Inverse-scaling bug, the forecast was de-standardized with the wrong scaler (e.g., a scaler fit on CNY or on the full series instead of the SGD train scaler instance). That would shift & stretch predictions to the wrong magnitude (explains ~1.9).\n",
    "\n",
    "- Mismatched covariates or time alignment, future_covariates do not cover the required lookback/horizon or are misaligned with the target index, making the net extrapolate oddly.\n",
    "\n",
    "- Target/covariate swap, accidentally passing a scaled SGD series (or another level) as a future covariate; LSTM may latch onto it in a way that explodes when rolled forward."
   ]
  },
  {
   "cell_type": "markdown",
   "metadata": {
    "id": "NFd8xoF-dMza"
   },
   "source": [
    "## Global Forecasting with TFT Model (SGD/USD & CNY/USD)"
   ]
  },
  {
   "cell_type": "code",
   "execution_count": null,
   "metadata": {
    "colab": {
     "base_uri": "https://localhost:8080/",
     "height": 1000,
     "referenced_widgets": [
      "0d86e7a398c249e4a56db56289b1d263",
      "aa537696b8b649a599875f13c9255f4c",
      "29495d383a074a9a9b8dddb71596cf7b",
      "db4d4abbec0c4863b8c582b4ef6eeb0c",
      "a7c13d1797ae41279e29430ee3ec14fb",
      "93796f6c120d4ad1907f8e199dc0e272",
      "42f20d05ba6345588443fec063fdb6df",
      "c88269815ea44d71a6be575bd5cfbe27",
      "b4cef1126cef4c06a8f2aa4c3b396e78",
      "67e3e7adb09248749799ba3aa4e1a3b7",
      "71d2013326614a25a6f16f0f06d81a54",
      "ea191e089b554751b73c84ef22fe86e3",
      "041a4d452b374614a7573902a7a1d262",
      "10fd3d1ca4a54ac08922544c43a11a47",
      "3ea2f0f9dfaa417b8f9a92601128a0c8",
      "964e02ca53a840ff9d55fba0dd133c3f",
      "f05acc93bf05412aa25d769099f7186e",
      "9cc1b3407c2e4687a53d235a207ab75f",
      "bfa5204f6a97438b89ee44cddfd3338b",
      "4ab09664797b44538f1d2a2383644e37",
      "fa0c6747f2284e778536e993ad1b7632",
      "41a43c4659254dacbcaa0b69fbd20505",
      "21272bfca5684c0d8d1861026fd3bad9",
      "776100e0061a4acc9ed05d89f7fbd889",
      "9f69ffe579bc4d7bb59196519350cb9a",
      "b6b2099167414a28bfb301b61d3f739d",
      "4456dc8aaf374c15b26140bd7c7e694f",
      "f68e3ce8ed004c0ab2daaef6b9985446",
      "d9608ac42fa344cab24e2d7a9fd0b4c8",
      "d640a5cb171e46de93e5f6bec08645e8",
      "a4e1d10cd292448ab0e27ce7abdd0ead",
      "0675f204caba42a6a9b2cba1c17183a7",
      "38f1953e26734034b9ead5017f70d939"
     ]
    },
    "id": "c1UrbdHsT6hT",
    "outputId": "79161e19-4af8-48e4-ea04-9d792ed2a72f"
   },
   "outputs": [],
   "source": [
    "sgd_train, sgd_val = train_test_split(sgd_series, test_size=0.2)\n",
    "cny_train, cny_val = train_test_split(cny_series, test_size=0.2)\n",
    "\n",
    "scaler_sgd = DartsScaler()\n",
    "sgd_train_s = scaler_sgd.fit_transform(sgd_train)\n",
    "sgd_val_s = scaler_sgd.transform(sgd_val)\n",
    "\n",
    "scaler_cny = DartsScaler()\n",
    "cny_train_s = scaler_cny.fit_transform(cny_train)\n",
    "cny_val_s = scaler_cny.transform(cny_val)\n",
    "\n",
    "h_sgd = len(sgd_val)\n",
    "h_cny = len(cny_val)\n",
    "h_max = max(h_sgd, h_cny)\n",
    "\n",
    "start_idx = min(sgd_train.start_time(), cny_train.start_time())\n",
    "end_idx = max(sgd_train.end_time(), cny_train.end_time())\n",
    "\n",
    "freq = pd.infer_freq(sgd_series.time_index) or pd.infer_freq(cny_series.time_index) or \"D\"\n",
    "offset = pd.tseries.frequencies.to_offset(freq)\n",
    "\n",
    "extended_index = pd.date_range(start=start_idx, end=end_idx + h_max * offset, freq=freq)\n",
    "\n",
    "dow = datetime_attribute_timeseries(extended_index, attribute=\"day_of_week\", one_hot=True)\n",
    "mon = datetime_attribute_timeseries(extended_index, attribute=\"month\", one_hot=True)\n",
    "calendar_full = dow.stack(mon)\n",
    "\n",
    "scaler_cov = DartsScaler()\n",
    "calendar_full_s = scaler_cov.fit_transform(calendar_full).astype(np.float32)\n",
    "\n",
    "cov_train_sgd = calendar_full_s.slice(start_idx, sgd_train.end_time())\n",
    "cov_train_cny = calendar_full_s.slice(start_idx, cny_train.end_time())\n",
    "\n",
    "cov_train_sgd = cov_train_sgd.astype(np.float32)\n",
    "cov_train_cny = cov_train_cny.astype(np.float32)\n",
    "\n",
    "cov_full = calendar_full_s\n",
    "\n",
    "past_cov_sgd_train = cny_train_s\n",
    "past_cov_sgd_full = cny_train_s.append(cny_val_s)\n",
    "\n",
    "past_cov_cny_train = sgd_train_s\n",
    "past_cov_cny_full = sgd_train_s.append(sgd_val_s)\n",
    "\n",
    "tft = TFTModel(\n",
    "    input_chunk_length=32,\n",
    "    output_chunk_length=7,\n",
    "    hidden_size=64,\n",
    "    lstm_layers=1,\n",
    "    num_attention_heads=4,\n",
    "    dropout=0.1,\n",
    "    batch_size=32,\n",
    "    n_epochs=50,\n",
    "    add_relative_index=True,\n",
    "    likelihood=QuantileRegression(quantiles=[0.05, 0.5, 0.95]),\n",
    "    random_state=42\n",
    ")\n",
    "\n",
    "tft.fit(\n",
    "    series=[sgd_train_s, cny_train_s],\n",
    "    past_covariates=[past_cov_sgd_train, past_cov_cny_train],\n",
    "    future_covariates=[cov_train_sgd, cov_train_cny]\n",
    ")\n",
    "\n",
    "sgd_pred_scaled = tft.predict(\n",
    "    n=h_sgd,\n",
    "    series=sgd_train_s,\n",
    "    past_covariates=past_cov_sgd_full,\n",
    "    future_covariates=cov_full,\n",
    "    show_warnings=False\n",
    ")\n",
    "sgd_pred = scaler_sgd.inverse_transform(sgd_pred_scaled)\n",
    "\n",
    "cny_pred_scaled = tft.predict(\n",
    "    n=h_cny,\n",
    "    series=cny_train_s,\n",
    "    past_covariates=past_cov_cny_full,\n",
    "    future_covariates=cov_full,\n",
    "    show_warnings=False\n",
    ")\n",
    "cny_pred = scaler_cny.inverse_transform(cny_pred_scaled)\n",
    "\n",
    "print(\"TFT RMSE (SGD/USD):\", rmse(sgd_val, sgd_pred))\n",
    "print(\"TFT MAE  (SGD/USD):\", mae(sgd_val, sgd_pred))\n",
    "print(\"TFT MAPE (SGD/USD):\", mape(sgd_val, sgd_pred))\n",
    "\n",
    "print(\"\\nTFT RMSE (CNY/USD):\", rmse(cny_val, cny_pred))\n",
    "print(\"TFT MAE  (CNY/USD):\", mae(cny_val, cny_pred))\n",
    "print(\"TFT MAPE (CNY/USD):\", mape(cny_val, cny_pred))\n",
    "\n",
    "plt.figure(figsize=(12, 5))\n",
    "sgd_series.plot(label=\"Actual SGD/USD\")\n",
    "sgd_pred.plot(label=\"TFT forecast SGD/USD\")\n",
    "plt.title(\"SGD/USD — TFT Forecast\")\n",
    "plt.legend(); plt.show()\n",
    "\n",
    "plt.figure(figsize=(12, 5))\n",
    "cny_series.plot(label=\"Actual CNY/USD\")\n",
    "cny_pred.plot(label=\"TFT forecast CNY/USD\")\n",
    "plt.title(\"CNY/USD — TFT Forecast\")\n",
    "plt.legend(); plt.show()"
   ]
  },
  {
   "cell_type": "markdown",
   "metadata": {
    "id": "BI8RNuebCNny"
   },
   "source": [
    "**Interpretation**\n",
    "\n",
    "What the plots show\n",
    "\n",
    "- **Systematic upward bias** in the validation window for **both pairs**: the TFT forecasts (blue) tend to sit above the realized series (black).\n",
    "\n",
    "- **SGD/USD**: the forecast spends most of the window around **~1.45–1.55**, while the actual series trades **~1.33–1.42**. The model captures broad direction at times, but it **overestimates the level** and smooths away short swings.\n",
    "\n",
    "- CNY/USD: forecasts cluster roughly **~6.8–7.1** vs. actual **~6.6–7.0**. Again, there’s a **level bias upward** and the forecast path is too smooth, **missing faster dips/rallies**."
   ]
  },
  {
   "cell_type": "markdown",
   "metadata": {
    "id": "HQzrTT2BefpA"
   },
   "source": [
    "## Scale and Split Calendar Covariates"
   ]
  },
  {
   "cell_type": "code",
   "execution_count": null,
   "metadata": {
    "colab": {
     "base_uri": "https://localhost:8080/"
    },
    "id": "99c97dca",
    "outputId": "7f052ba0-5107-4276-f0ce-6dc8d2419a48"
   },
   "outputs": [],
   "source": [
    "scaler_covs = DartsScaler()\n",
    "calendar_covs_s = scaler_covs.fit_transform(calendar_covs)\n",
    "\n",
    "cov_train, cov_val = calendar_covs_s.split_after(sgd_train.end_time())\n",
    "\n",
    "cov_full = cov_train.append(cov_val)\n",
    "\n",
    "print(\"Covariates prepared and split successfully.\")\n",
    "print(\"cov_train shape:\", cov_train.shape)\n",
    "print(\"cov_val shape:\", cov_val.shape)\n",
    "print(\"cov_full shape:\", cov_full.shape)"
   ]
  },
  {
   "cell_type": "markdown",
   "metadata": {
    "id": "xTVG0ZKfe3dN"
   },
   "source": [
    "## EXGBoost Hypertunning"
   ]
  },
  {
   "cell_type": "code",
   "execution_count": null,
   "metadata": {
    "colab": {
     "base_uri": "https://localhost:8080/",
     "height": 1000
    },
    "id": "SVvIXSGubksw",
    "outputId": "583fde06-858c-4457-842a-80101b5ef673"
   },
   "outputs": [],
   "source": [
    "def _build_xgb_from_params(params):\n",
    "    p = {k: (int(v) if isinstance(v, (np.integer,)) else float(v) if isinstance(v, (np.floating,)) else v)\n",
    "         for k, v in params.items()}\n",
    "    lags = p.pop(\"lags\", [-1, -2, -5])\n",
    "    lags_past_covariates = p.pop(\"lags_past\", [-1, -2, -5])\n",
    "    lags_future = p.pop(\"lags_future\", [0])\n",
    "    out_chunk = p.pop(\"output_chunk_length\", 1)\n",
    "\n",
    "    allowed = {\n",
    "        \"n_estimators\",\"learning_rate\",\"max_depth\",\"subsample\",\"colsample_bytree\",\n",
    "        \"min_child_weight\",\"gamma\",\"reg_alpha\",\"reg_lambda\",\"n_jobs\",\"random_state\"\n",
    "    }\n",
    "    xgb_kwargs = {k: v for k, v in p.items() if k in allowed}\n",
    "    xgb_kwargs.setdefault(\"random_state\", 42)\n",
    "    xgb_kwargs.setdefault(\"n_jobs\", -1)\n",
    "\n",
    "    model = XGBModel(\n",
    "        lags=lags,\n",
    "        lags_past_covariates=lags_past_covariates,\n",
    "        lags_future_covariates=lags_future,\n",
    "        output_chunk_length=out_chunk,\n",
    "        **xgb_kwargs,\n",
    "    )\n",
    "    used = {\"lags\": lags, \"lags_past\": lags_past_covariates, \"lags_future\": lags_future,\n",
    "            \"out_chunk\": out_chunk, **xgb_kwargs}\n",
    "    return model, used\n",
    "\n",
    "def build_fx_features(ts: TimeSeries, prefix: str, max_window: int = 60) -> TimeSeries:\n",
    "\n",
    "    s = pd.Series(ts.values().flatten(), index=ts.time_index).astype(float)\n",
    "\n",
    "    ret1 = np.log(s / s.shift(1))\n",
    "    ret5 = np.log(s / s.shift(5))\n",
    "\n",
    "    ma7 = s.rolling(7).mean()\n",
    "    ma14 = s.rolling(14).mean()\n",
    "    ma30 = s.rolling(30).mean()\n",
    "    std7 = s.rolling(7).std()\n",
    "    std14 = s.rolling(14).std()\n",
    "\n",
    "    feats = pd.DataFrame({\n",
    "        f\"{prefix}_ret1\": ret1,\n",
    "        f\"{prefix}_ret5\": ret5,\n",
    "        f\"{prefix}_ma7\": ma7,\n",
    "        f\"{prefix}_ma14\": ma14,\n",
    "        f\"{prefix}_ma30\": ma30,\n",
    "        f\"{prefix}_std7\": std7,\n",
    "        f\"{prefix}_std14\": std14,\n",
    "    }, index=s.index).dropna()\n",
    "\n",
    "    return TimeSeries.from_times_and_values(\n",
    "        times=feats.index, values=feats.values, columns=list(feats.columns)\n",
    "    )\n",
    "\n",
    "fe_sgd_full = build_fx_features(sgd_series, \"sgd\", max_window=60)\n",
    "fe_cny_full = build_fx_features(cny_series, \"cny\", max_window=60)\n",
    "\n",
    "full_past_cov_sgd = fe_sgd_full.stack(fe_cny_full)\n",
    "full_past_cov_cny = fe_cny_full.stack(fe_sgd_full)\n",
    "\n",
    "start = max(fe_sgd_full.start_time(), fe_cny_full.start_time())\n",
    "end   = min(fe_sgd_full.end_time(), fe_cny_full.end_time())\n",
    "fe_sgd_full = fe_sgd_full.slice(start, end)\n",
    "fe_cny_full = fe_cny_full.slice(start, end)\n",
    "\n",
    "sgd_train_start = max(sgd_train_s.start_time(), full_past_cov_sgd.start_time(), cov_train.start_time())\n",
    "cny_train_start = max(cny_train_s.start_time(), full_past_cov_cny.start_time(), cov_train.start_time())\n",
    "\n",
    "sgd_train_s_al  = sgd_train_s.slice(sgd_train_start, sgd_train_s.end_time())\n",
    "cny_train_s_al  = cny_train_s.slice(cny_train_start, cny_train_s.end_time())\n",
    "\n",
    "cov_train_sgd   = cov_train.slice(sgd_train_start, sgd_train_s.end_time())\n",
    "cov_train_cny   = cov_train.slice(cny_train_start, cny_train_s.end_time())\n",
    "past_cov_train_sgd = full_past_cov_sgd.slice(sgd_train_start, sgd_train_s.end_time())\n",
    "past_cov_train_cny = full_past_cov_cny.slice(cny_train_start, cny_train_s.end_time())\n",
    "\n",
    "params_sgd = {\n",
    "    \"lags\": [-1, -2, -3, -5, -7, -10, -20, -40],\n",
    "    \"lags_past\": [-1, -2, -5, -10, -20],\n",
    "    \"lags_future\": [0,1,2,3,4,5,6],\n",
    "    \"output_chunk_length\": 1,\n",
    "    \"n_estimators\": 1000,\n",
    "    \"learning_rate\": 0.03,\n",
    "    \"max_depth\": 4,\n",
    "    \"min_child_weight\": 6,\n",
    "    \"subsample\": 0.8,\n",
    "    \"colsample_bytree\": 0.8,\n",
    "    \"reg_lambda\": 1.0,\n",
    "    \"gamma\": 0.0,\n",
    "    \"random_state\": 42,\n",
    "    \"n_jobs\": -1,\n",
    "}\n",
    "params_cny = {\n",
    "    \"lags\": [-1, -2, -3, -5, -7, -10, -20, -40, -60],\n",
    "    \"lags_past\": [-1, -2, -5, -10, -20, -40],\n",
    "    \"lags_future\": [0,1,2,3,4,5,6],\n",
    "    \"output_chunk_length\": 1,\n",
    "    \"n_estimators\": 1200,\n",
    "    \"learning_rate\": 0.02,\n",
    "    \"max_depth\": 4,\n",
    "    \"min_child_weight\": 8,\n",
    "    \"subsample\": 0.8,\n",
    "    \"colsample_bytree\": 0.8,\n",
    "    \"reg_lambda\": 1.5,\n",
    "    \"gamma\": 0.0,\n",
    "    \"random_state\": 42,\n",
    "    \"n_jobs\": -1,\n",
    "}\n",
    "\n",
    "xgb_sgd, used_sgd = _build_xgb_from_params(params_sgd)\n",
    "xgb_cny, used_cny = _build_xgb_from_params(params_cny)\n",
    "\n",
    "print(\"[XGB_SGD] Using params:\", used_sgd)\n",
    "\n",
    "xgb_sgd.fit(\n",
    "    series=sgd_train_s_al,\n",
    "    past_covariates=past_cov_train_sgd,\n",
    "    future_covariates=cov_train_sgd\n",
    ")\n",
    "\n",
    "H = len(sgd_val)\n",
    "\n",
    "max_past_lag_sgd = abs(min(used_sgd['lags_past'])) if used_sgd['lags_past'] else 0\n",
    "required_historical_start_time_sgd = sgd_val.start_time() - max_past_lag_sgd * sgd_val.freq\n",
    "\n",
    "past_cov_pred_sgd = full_past_cov_sgd.slice(required_historical_start_time_sgd, sgd_val.end_time())\n",
    "\n",
    "h_max = max(len(sgd_val), len(cny_val))\n",
    "freq = pd.infer_freq(df.index) or \"D\"\n",
    "offset = pd.tseries.frequencies.to_offset(freq)\n",
    "max_future_lag = max(used_sgd['lags_future'] + used_cny['lags_future'])\n",
    "\n",
    "future_cov_end_time = max(sgd_val.end_time(), cny_val.end_time()) + max_future_lag * offset\n",
    "\n",
    "extended_future_cov_index = pd.date_range(\n",
    "    start=cov_train.start_time(),\n",
    "    end=future_cov_end_time,\n",
    "    freq=freq\n",
    ")\n",
    "\n",
    "dow_ext = datetime_attribute_timeseries(extended_future_cov_index, attribute=\"day_of_week\", one_hot=True)\n",
    "mon_ext = datetime_attribute_timeseries(extended_future_cov_index, attribute=\"month\", one_hot=True)\n",
    "calendar_full_ext = dow_ext.stack(mon_ext)\n",
    "\n",
    "calendar_full_ext_s = scaler_covs.transform(calendar_full_ext)\n",
    "\n",
    "cov_full = calendar_full_ext_s\n",
    "\n",
    "xgb_pred_s = xgb_sgd.predict(\n",
    "    n=H,\n",
    "    past_covariates=past_cov_pred_sgd,\n",
    "    future_covariates=cov_full\n",
    ")\n",
    "\n",
    "pred_sgd = scaler_target.inverse_transform(xgb_pred_s)\n",
    "\n",
    "print(\"\\n[XGB_SGD] Validation metrics:\")\n",
    "print(\"  RMSE:\", rmse(sgd_val, pred_sgd))\n",
    "print(\"  MAE :\", mae(sgd_val, pred_sgd))\n",
    "print(\"  MAPE:\", mape(sgd_val, pred_sgd))\n",
    "\n",
    "plt.figure(figsize=(12, 6))\n",
    "sgd_val.plot(label=\"Actual SGD/USD (Validation)\")\n",
    "pred_sgd.plot(label=\"XGB (feat) — SGD\")\n",
    "plt.title(\"SGD/USD — XGBoost with engineered covariates\")\n",
    "plt.legend(); plt.show()\n",
    "\n",
    "print(\"\\n[XGB_CNY] Using params:\", used_cny)\n",
    "\n",
    "xgb_cny.fit(\n",
    "    series=cny_train_s_al,\n",
    "    past_covariates=past_cov_train_cny,\n",
    "    future_covariates=cov_train_cny\n",
    ")\n",
    "\n",
    "Hc = len(cny_val)\n",
    "\n",
    "max_past_lag_cny = abs(min(used_cny['lags_past'])) if used_cny['lags_past'] else 0\n",
    "required_historical_start_time_cny = cny_val.start_time() - max_past_lag_cny * cny_val.freq\n",
    "\n",
    "past_cov_pred_cny = full_past_cov_cny.slice(required_historical_start_time_cny, cny_val.end_time())\n",
    "\n",
    "pred_s_cny = xgb_cny.predict(\n",
    "    n=Hc,\n",
    "    past_covariates=past_cov_pred_cny,\n",
    "    future_covariates=cov_full\n",
    ")\n",
    "\n",
    "pred_cny   = scaler_cny.inverse_transform(pred_s_cny)\n",
    "\n",
    "print(\"\\n[XGB_CNY] Validation metrics:\")\n",
    "print(\"  RMSE:\", rmse(cny_val, pred_cny))\n",
    "print(\"  MAE :\", mae(cny_val, pred_cny))\n",
    "print(\"  MAPE:\", mape(cny_val, pred_cny))\n",
    "\n",
    "plt.figure(figsize=(12, 6))\n",
    "cny_val.plot(label=\"Actual CNY/USD (Validation)\") # Plot only the validation actuals\n",
    "pred_cny.plot(label=\"XGB (feat) — CNY\")\n",
    "plt.title(\"CNY/USD — XGBoost with engineered covariates\")\n",
    "plt.legend(); plt.show()"
   ]
  },
  {
   "cell_type": "markdown",
   "metadata": {
    "id": "ZtPi40Y2nmco"
   },
   "source": [
    "**Interpretation**\n",
    "\n",
    "**SGD/USD**\n",
    "\n",
    "- The blue forecast almost sits on top of the black actuals across the validation window.\n",
    "\n",
    "- Turning points are captured with only a small lag during sharper moves (e.g., early-2018 dip and subsequent rebound).\n",
    "\n",
    "- Amplitudes are well tracked; minor under/overshoot near local peaks is expected with autoregressive rolling prediction.\n",
    "\n",
    "- Visual fit + very low MAPE (0.67%) suggest the feature set (lags, MAs, rolling vol; plus cross-pair info) is highly informative for SGD.\n",
    "\n",
    "**CNY/USD**\n",
    "\n",
    "- Direction and medium-term swings are captured; the model smooths the path a bit and underestimates peak amplitudes (e.g., late-2018/2019 run-ups).\n",
    "\n",
    "- The forecast shows a slight lag around regime shifts; still, MAPE ~1.44% is strong for a level forecast on a managed FX pair.\n",
    "\n",
    "**Why this works**\n",
    "\n",
    "- Past-information features (lags, log-returns, moving averages, rolling volatility) give XGB immediate context about momentum and mean-reversion.\n",
    "\n",
    "- Cross-pair covariates (SGD features helping CNY and vice-versa) capture co-movement in regional FX.\n",
    "\n",
    "- Using 1-step autoregression (predicting next step repeatedly) leverages fresh information each step and helps track short-horizon dynamics.\n",
    "\n",
    "**Remaining gaps / risks**\n",
    "\n",
    "- Amplitude underestimation on CNY spikes, common with tree ensembles trained on squared error and smoothed features.\n",
    "\n",
    "- Small forecast lag at turning points, intrinsic to autoregression and the chosen lag set.\n",
    "\n",
    "- Feature leakage check: rolling statistics must be computed from past only.\n",
    "\n",
    "- Single split can overstate performance; confirm with rolling backtests.\n",
    "\n",
    "The **XGBoost** + engineered covariates approach is currently your best performer. Solidify it with rolling validation and targeted feature tweaks (especially for CNY) and consider returns-space modeling for further uplift.\n"
   ]
  },
  {
   "cell_type": "markdown",
   "metadata": {
    "id": "EFXT4jwU0YOf"
   },
   "source": [
    "## Save Models"
   ]
  },
  {
   "cell_type": "code",
   "execution_count": null,
   "metadata": {
    "colab": {
     "base_uri": "https://localhost:8080/"
    },
    "id": "a2748312",
    "outputId": "70ff91eb-9b59-4528-ff06-664dcfc6b401"
   },
   "outputs": [],
   "source": [
    "xgb_sgd.save(\"xgb_best_sgd.darts\")\n",
    "print(\"XGBoost model for SGD/USD saved as xgb_best_sgd.darts\")\n",
    "\n",
    "xgb_cny.save(\"xgb_best_cny.darts\")\n",
    "print(\"XGBoost model for CNY/USD saved as xgb_best_cny.darts\")"
   ]
  },
  {
   "cell_type": "markdown",
   "metadata": {
    "id": "LMfUNzPcr-zA"
   },
   "source": [
    "## Load Models"
   ]
  },
  {
   "cell_type": "code",
   "execution_count": null,
   "metadata": {
    "colab": {
     "base_uri": "https://localhost:8080/"
    },
    "id": "275bd599",
    "outputId": "36618f7d-c35a-4290-ff3b-f73bf26633fd"
   },
   "outputs": [],
   "source": [
    "from darts.models import XGBModel\n",
    "\n",
    "loaded_xgb_sgd = XGBModel.load(\"xgb_best_sgd.darts\")\n",
    "loaded_xgb_cny = XGBModel.load(\"xgb_best_cny.darts\")\n",
    "\n",
    "print(\"XGBoost models loaded successfully.\")"
   ]
  },
  {
   "cell_type": "markdown",
   "metadata": {
    "id": "iAZJIxX9xbEZ"
   },
   "source": [
    "## Conclusion & Business Interpretaions\n",
    "\n",
    "**Executive summary**\n",
    "\n",
    "- **Best performing approach: XGBoost with engineered covariates** (own lags, log-returns, moving averages, rolling volatility, plus cross-pair signals).\n",
    "\n",
    "- **Accuracy (validation, daily horizon)**:\n",
    "\n",
    "  - **SGD/USD**: RMSE **0.0127**, MAE **0.00925**, MAPE **0.67%**.\n",
    "\n",
    "  - **CNY/USD**: RMSE **0.1206**, MAE **0.0968**, MAPE **1.44%**.\n",
    "\n",
    "- Baselines & deep models: ARIMA(0,1,0)+drift and TFT/LSTM underperformed on this dataset/horizon; XGB materially reduced error (e.g., vs SGD ARIMA RMSE ~0.0328, XGB is ~2.6× better).\n",
    "\n",
    "These results are strong enough for **short-horizon hedging support** and **rate-setting guidance**, especially for SGD/USD. CNY/USD is usable but benefits from regime/volatility features.\n",
    "\n",
    "**KPI scorecard**\n",
    "\n",
    "**1) Forecasting Accuracy (RMSE/MAE/APE)**\n",
    "\n",
    "- **Pass (SGD)**: sub-1% MAPE; errors ~0.009 USD/SGD on average.\n",
    "\n",
    "- **Good (CNY)**: ~1.4% MAPE; some amplitude underestimation around policy-driven moves.\n",
    "\n",
    "**2) Trend Identification**\n",
    "\n",
    "- **SGD**: Captures medium-term drifts and turning points with small lag.\n",
    "\n",
    "- **CNY**: Directional trends are captured; peaks are smoothed—add regime features to sharpen.\n",
    "\n",
    "**3) Volatility Prediction**\n",
    "\n",
    "- Rolling-volatility features help the model respond to choppier periods; still, **sudden regime shifts** (e.g., policy adjustments) are partially smoothed. Recommend adding **breakout/vol-spike flags** and **shorter-window returns (1–3–5)**.\n",
    "\n",
    "**4) Time-Horizon Performance**\n",
    "\n",
    "- Excellent at **daily** horizon via 1-step autoregression.\n",
    "\n",
    "- For **weekly/monthly** KPIs, aggregate daily forecasts and evaluate; consider a **multi-horizon direct** variant (e.g., output_chunk_length=5/20) for comparison.\n",
    "\n",
    "**5) Risk Assessment (cost of error)**\n",
    "\n",
    "- Translate MAE into exposure terms:\n",
    "\n",
    "  - Example: with X million SGD exposure, expected P&L impact ≈ **MAE × exposure** (in quote currency). For SGD/USD, **0.00925 × exposure_SGD** gives expected absolute error in USD.\n",
    "\n",
    "- Add **95% residual quantile** (or residual VaR) as a buffer when quoting or hedging; re-estimate after any model change.\n",
    "\n",
    "**6) Business Interpretation / Actionability**\n",
    "\n",
    "- **Hedging & reserves**: use daily forecasts + intervals to time hedge top-ups and size reserve buffers; prioritize SGD where accuracy is highest.\n",
    "\n",
    "- **Pricing/Spreads**: set client spreads to **(execution costs + 95% error band)**; the band can be learned from rolling residuals.\n",
    "\n",
    "- **Early-warning**: monitor residual spikes; when residuals breach control limits, flag **regime change** and trigger re-fit or human review.\n",
    "\n",
    "- **Attribution**: XGB feature importance/SHAP explains which signals (e.g., short-term momentum, rolling vol) drove each forecast—useful for desk commentary.\n",
    "\n",
    "**Model risks & controls**\n",
    "\n",
    "- **Regime risk (CNY)**: Managed currency & policy shocks → add **regime indicators**, **macro proxies** (rate differentials, DXY), and **event dummies**.\n",
    "\n",
    "- **Data leakage**: keep all rolling stats strictly **past-only** (you already drop look-ahead—keep guarding this).\n",
    "\n",
    "- **Model drift**: schedule **monthly rolling backtests**; re-fit when RMSE/MAE degrade beyond thresholds.\n",
    "\n",
    "- **Champion/Challenger**: deploy XGB as **champion**; keep **ARIMA RW-drift** and a **returns-space XGB** as challengers.\n",
    "\n",
    "**Recommended next steps:**\n",
    "\n",
    "- **Walk-forward backtesting**: 6–12M rolling windows, step monthly; report mean/median RMSE/MAE vs baselines.\n",
    "\n",
    "- **CNY uplift**: add short-horizon returns (1/3/5), breakout flags, rate differential/DXY proxies; try slightly deeper trees (max_depth 5) with stronger regularization (min_child_weight, reg_lambda).\n",
    "\n",
    "- **Returns space modeling**: forecast log-returns, then reconstruct price; often improves turning-point response.\n",
    "\n",
    "- **Uncertainty bands**: residual bootstrap or quantile XGB (pinball loss) fo8r 5–95% bands.\n",
    "\n",
    "- **MLOps**: retrain monthly, drift alarms on residuals, model registry with versioning, and Champion/Challenger governance.\n",
    "\n"
   ]
  },
  {
   "cell_type": "markdown",
   "metadata": {
    "id": "hseoYxNcIfGx"
   },
   "source": [
    "### Deployment recommendation\n",
    "\n",
    "**Streamlit suggested app layout**:\n",
    "\n",
    "- **Sidebar**: currency pair, horizon (days), model (XGB, ARIMA), feature toggles.\n",
    "\n",
    "- **Main panels**:\n",
    "\n",
    "  - **Forecast chart** (actual vs forecast; optional prediction band from residual bootstrap).\n",
    "\n",
    "  - **Metrics & KPI tiles** (RMSE/MAE/MAPE; rolling backtest summary).\n",
    "\n",
    "  - **Feature importance / SHAP** (top drivers for current forecast window).\n",
    "\n",
    "  - **Risk view** (95% residual band, estimated P&L impact for a user-entered exposure).\n",
    "\n",
    "  - **Download** (CSV of forecast + intervals).\n",
    "\n",
    "**When to prefer alternatives**:\n",
    "\n",
    "- **Production integration / low latency**: expose a **FastAPI** microservice for forecasts; let downstream systems (pricing/hedging) consume JSON.\n",
    "\n",
    "- **Enterprise dashboards: Dash or Power BI** if IT standardizes on them.\n",
    "\n",
    "- **Scheduling & monitoring**: orchestrate daily runs via **Airflow/Prefect**, push metrics to **Prometheus/Grafana**."
   ]
  },
  {
   "cell_type": "markdown",
   "metadata": {
    "id": "3tHoI8kfOJUt"
   },
   "source": [
    "### Final Analysis\n",
    "\n",
    "- The **XGBoost + engineered covariates** solution meets the accuracy KPI (especially for **SGD/USD**) and is operationally actionable for hedging and pricing decisions.\n",
    "\n",
    "- With modest feature/regularization tweaks, **CNY/USD** can be tightened further.\n",
    "\n",
    "- Package the model in a **Streamlit app** for desks to explore forecasts and risk quickly, and back it with a **FastAPI** endpoint for system integration."
   ]
  }
 ],
 "metadata": {
  "colab": {
   "provenance": []
  },
  "kernelspec": {
   "display_name": ".venv (3.13.5)",
   "language": "python",
   "name": "python3"
  },
  "language_info": {
   "codemirror_mode": {
    "name": "ipython",
    "version": 3
   },
   "file_extension": ".py",
   "mimetype": "text/x-python",
   "name": "python",
   "nbconvert_exporter": "python",
   "pygments_lexer": "ipython3",
   "version": "3.13.5"
  }
 },
 "nbformat": 4,
 "nbformat_minor": 0
}
